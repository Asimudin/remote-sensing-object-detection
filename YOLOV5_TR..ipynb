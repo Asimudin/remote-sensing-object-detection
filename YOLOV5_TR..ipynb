# ==============================================================================
#           PART 2: YOLOv5 SETUP & AUTOMATIC DATASET ACQUISITION
# ==============================================================================
# This version uses YOLOv5's built-in automatic downloader for the COCO128
# sample dataset. This is the most robust and reliable method.
#
#                      !!! YOU DO NOT NEED AN API KEY !!!
#                      !!! YOU DO NOT NEED TO DOWNLOAD ANYTHING MANUALLY !!!
#
# ==============================================================================
print("\n\n\nPART 2: YOLOv5 - SETUP AND AUTOMATIC DATASET ACQUISITION")
import os
import glob
from IPython.display import Image, display

# --- 2a. Clone YOLOv5 and Install Dependencies ---
print("\nStep 2a: Cloning YOLOv5 repository and installing requirements...")
if os.path.exists('yolov5'):
    !rm -rf yolov5
!git clone https://github.com/ultralytics/yolov5.git
%cd yolov5
!pip install -r requirements.txt --quiet
print("YOLOv5 setup complete.")

# --- 2b. Prepare to use the built-in COCO128 dataset ---
print("\nStep 2b: The script is configured to use 'coco128.yaml'.")
print("YOLOv5 will automatically download this dataset during the training step.")


# ==============================================================================
#                      PART 3: YOLOv5 - MODEL TRAINING
# ==============================================================================
print("\n\n\nPART 3: YOLOv5 - MODEL TRAINING")
print("\nStep 3: Training the YOLOv5 model on the COCO128 dataset...")
# --- THE CRITICAL FIX IS HERE ---
# We point the training script to 'coco128.yaml'. The script is smart enough
# to download the data automatically if it's not found.
# The `wandb` prompt can be safely ignored or disabled.
!python train.py --img 640 --batch 16 --epochs 50 --data coco128.yaml --weights yolov5s.pt --cache --project runs/train --name yolov5_coco128

# --- Verify that training was successful ---
TRAINED_WEIGHTS_PATH = 'runs/train/yolov5_coco128/weights/best.pt'
if not os.path.exists(TRAINED_WEIGHTS_PATH):
    raise RuntimeError("Training failed! The model weights file 'best.pt' was not created. Please review the training logs above for errors.")
print(f"\nTraining complete! Best weights saved to '{TRAINED_WEIGHTS_PATH}'")


# ==============================================================================
#                  PART 4: YOLOv5 - INFERENCE ON GEE IMAGE
# ==============================================================================
# The COCO dataset includes common objects like 'car', 'person', 'bus', etc.,
# which are appropriate for detecting objects in residential aerial imagery.

print("\n\n\nPART 4: YOLOv5 - INFERENCE ON GEE IMAGE")
print("\nStep 4: Using our trained detector on the image from GEE...")

# Define the path to the GeoTIFF file we exported from GEE
# These variables should still exist from running Part 1
gee_image_path = f'/content/drive/My Drive/{export_folder}/{export_filename}.tif'

if not os.path.exists(gee_image_path):
     print(f"\n\n!!! ERROR: GEE EXPORTED FILE NOT FOUND AT: {gee_image_path} !!!")
     print("Please make sure the GEE export task from Part 1 has completed successfully.")
else:
    # Quote the file path to handle spaces and use our verified trained weights.
    !python detect.py --weights {TRAINED_WEIGHTS_PATH} --conf 0.25 --source "{gee_image_path}" --project runs/detect --name final_detection
    print("\nInference complete!")


# ==============================================================================
#                      PART 5: DISPLAYING THE FINAL RESULT
# ==============================================================================
print("\n\n\nPART 5: DISPLAYING THE FINAL RESULT")

# Define the expected output path based on our --project and --name flags
output_image_path = os.path.join('runs/detect/final_detection', f'{export_filename}.jpg')

if os.path.exists(output_image_path):
    print(f"Displaying final result from: {output_image_path}")
    display(Image(filename=output_image_path, width=800))
else:
    print(f"Could not find the output image at '{output_image_path}'. Did the inference step run correctly?")

print("\n\n==================== PROJECT COMPLETE ====================")
